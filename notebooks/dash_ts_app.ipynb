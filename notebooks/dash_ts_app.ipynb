{
 "cells": [
  {
   "cell_type": "code",
   "execution_count": 1,
   "metadata": {},
   "outputs": [],
   "source": [
    "import dash\n",
    "import dash_core_components as dcc\n",
    "import dash_bootstrap_components as dbc\n",
    "import dash_html_components as html\n",
    "from dash.dependencies import Input, Output\n",
    "import plotly.graph_objects as go\n",
    "import plotly.express as px\n",
    "\n",
    "import pandas as pd, numpy as np\n",
    "import pickle\n",
    "import os\n",
    "import glob\n",
    "import base64\n",
    "import warnings\n",
    "warnings.filterwarnings('ignore')\n",
    "\n",
    "from fbprophet import Prophet"
   ]
  },
  {
   "cell_type": "code",
   "execution_count": 2,
   "metadata": {},
   "outputs": [],
   "source": [
    "import matplotlib.pyplot as plt"
   ]
  },
  {
   "cell_type": "code",
   "execution_count": 3,
   "metadata": {},
   "outputs": [
    {
     "output_type": "execute_result",
     "data": {
      "text/plain": "            Brampton  Calgary  Markham  Mississauga  Montreal  North York  \\\ndate                                                                        \n2010-01-16         1        8        0            0         1           0   \n2010-01-17         0       10        0            0         3           1   \n2010-01-18         0        4        4            0         0           0   \n2010-01-19         0        2        0            0         0           1   \n2010-01-20         0        8        0            3         3           1   \n\n            Richmond Hill  Scarborough  Toronto  Vaughan  \ndate                                                      \n2010-01-16              0            2       27        0  \n2010-01-17              0            1       29        0  \n2010-01-18              0            2       21        0  \n2010-01-19              0            0       25        0  \n2010-01-20              0            0       37        0  ",
      "text/html": "<div>\n<style scoped>\n    .dataframe tbody tr th:only-of-type {\n        vertical-align: middle;\n    }\n\n    .dataframe tbody tr th {\n        vertical-align: top;\n    }\n\n    .dataframe thead th {\n        text-align: right;\n    }\n</style>\n<table border=\"1\" class=\"dataframe\">\n  <thead>\n    <tr style=\"text-align: right;\">\n      <th></th>\n      <th>Brampton</th>\n      <th>Calgary</th>\n      <th>Markham</th>\n      <th>Mississauga</th>\n      <th>Montreal</th>\n      <th>North York</th>\n      <th>Richmond Hill</th>\n      <th>Scarborough</th>\n      <th>Toronto</th>\n      <th>Vaughan</th>\n    </tr>\n    <tr>\n      <th>date</th>\n      <th></th>\n      <th></th>\n      <th></th>\n      <th></th>\n      <th></th>\n      <th></th>\n      <th></th>\n      <th></th>\n      <th></th>\n      <th></th>\n    </tr>\n  </thead>\n  <tbody>\n    <tr>\n      <th>2010-01-16</th>\n      <td>1</td>\n      <td>8</td>\n      <td>0</td>\n      <td>0</td>\n      <td>1</td>\n      <td>0</td>\n      <td>0</td>\n      <td>2</td>\n      <td>27</td>\n      <td>0</td>\n    </tr>\n    <tr>\n      <th>2010-01-17</th>\n      <td>0</td>\n      <td>10</td>\n      <td>0</td>\n      <td>0</td>\n      <td>3</td>\n      <td>1</td>\n      <td>0</td>\n      <td>1</td>\n      <td>29</td>\n      <td>0</td>\n    </tr>\n    <tr>\n      <th>2010-01-18</th>\n      <td>0</td>\n      <td>4</td>\n      <td>4</td>\n      <td>0</td>\n      <td>0</td>\n      <td>0</td>\n      <td>0</td>\n      <td>2</td>\n      <td>21</td>\n      <td>0</td>\n    </tr>\n    <tr>\n      <th>2010-01-19</th>\n      <td>0</td>\n      <td>2</td>\n      <td>0</td>\n      <td>0</td>\n      <td>0</td>\n      <td>1</td>\n      <td>0</td>\n      <td>0</td>\n      <td>25</td>\n      <td>0</td>\n    </tr>\n    <tr>\n      <th>2010-01-20</th>\n      <td>0</td>\n      <td>8</td>\n      <td>0</td>\n      <td>3</td>\n      <td>3</td>\n      <td>1</td>\n      <td>0</td>\n      <td>0</td>\n      <td>37</td>\n      <td>0</td>\n    </tr>\n  </tbody>\n</table>\n</div>"
     },
     "metadata": {},
     "execution_count": 3
    }
   ],
   "source": [
    "ts_df = pd.read_csv(os.path.join(os.getcwd(), \"dashboard_components\",\"data\",\"time_series_df.csv\"))\n",
    "ts_df.set_index('date',inplace=True)\n",
    "ts_df.index = pd.DatetimeIndex(ts_df.index)\n",
    "ts_df.head()"
   ]
  },
  {
   "cell_type": "code",
   "execution_count": 4,
   "metadata": {},
   "outputs": [],
   "source": [
    "def get_city_ts(df, city_fil):\n",
    "    df = df.loc[:,city_fil].reset_index()\n",
    "    df.columns = ['ds','y']\n",
    "    return df\n",
    "\n",
    "def get_forecast(fact_df, city_fil, num_steps):\n",
    "    model_path = os.path.join(os.getcwd(),'dashboard_components','models',city_fil.lower().replace(' ','_')+'_prophet.pkl')\n",
    "    with open(model_path,'rb') as f:\n",
    "        model = pickle.load(f)\n",
    "    future_pd = model.make_future_dataframe(\n",
    "    periods=num_steps*7,\n",
    "    include_history=True, \n",
    "    freq='D')\n",
    "\n",
    "    fcast = model.predict(future_pd)\n",
    "    fcast['y'] = np.pad(city_df.y.values,pad_width=(0,num_steps*7),mode='constant')\n",
    "\n",
    "    return fcast[['ds','y','yhat','yhat_lower','yhat_upper']]\n",
    "\n",
    "def get_anomalies(city_fil):\n",
    "    anomaly_path = os.path.join(os.getcwd(),'dashboard_components','data',city_fil.lower().replace(' ','_')+'_anomalies.csv')\n",
    "    anomaly_df = pd.read_csv(anomaly_path)\n",
    "    anomaly_df.drop('Unnamed: 0', axis=1, inplace=True)\n",
    "    return anomaly_df"
   ]
  },
  {
   "cell_type": "code",
   "execution_count": 5,
   "metadata": {},
   "outputs": [
    {
     "output_type": "execute_result",
     "data": {
      "text/plain": "          ds   y\n0 2010-01-16  27\n1 2010-01-17  29\n2 2010-01-18  21\n3 2010-01-19  25\n4 2010-01-20  37",
      "text/html": "<div>\n<style scoped>\n    .dataframe tbody tr th:only-of-type {\n        vertical-align: middle;\n    }\n\n    .dataframe tbody tr th {\n        vertical-align: top;\n    }\n\n    .dataframe thead th {\n        text-align: right;\n    }\n</style>\n<table border=\"1\" class=\"dataframe\">\n  <thead>\n    <tr style=\"text-align: right;\">\n      <th></th>\n      <th>ds</th>\n      <th>y</th>\n    </tr>\n  </thead>\n  <tbody>\n    <tr>\n      <th>0</th>\n      <td>2010-01-16</td>\n      <td>27</td>\n    </tr>\n    <tr>\n      <th>1</th>\n      <td>2010-01-17</td>\n      <td>29</td>\n    </tr>\n    <tr>\n      <th>2</th>\n      <td>2010-01-18</td>\n      <td>21</td>\n    </tr>\n    <tr>\n      <th>3</th>\n      <td>2010-01-19</td>\n      <td>25</td>\n    </tr>\n    <tr>\n      <th>4</th>\n      <td>2010-01-20</td>\n      <td>37</td>\n    </tr>\n  </tbody>\n</table>\n</div>"
     },
     "metadata": {},
     "execution_count": 5
    }
   ],
   "source": [
    "city_df = get_city_ts(ts_df, 'Toronto')\n",
    "city_df.head()"
   ]
  },
  {
   "cell_type": "code",
   "execution_count": 6,
   "metadata": {},
   "outputs": [
    {
     "output_type": "stream",
     "name": "stderr",
     "text": "INFO:numexpr.utils:Note: NumExpr detected 12 cores but \"NUMEXPR_MAX_THREADS\" not set, so enforcing safe limit of 8.\nINFO:numexpr.utils:NumExpr defaulting to 8 threads.\nWall time: 7.41 s\n"
    },
    {
     "output_type": "execute_result",
     "data": {
      "text/plain": "          ds   y       yhat  yhat_lower  yhat_upper\n0 2010-01-16  27  33.882428  -39.665842  103.593982\n1 2010-01-17  29  30.526631  -41.283199   97.549289\n2 2010-01-18  21  16.501683  -48.882786   87.565894\n3 2010-01-19  25  17.956621  -51.833419   85.461540\n4 2010-01-20  37  19.794336  -50.512709   94.283527",
      "text/html": "<div>\n<style scoped>\n    .dataframe tbody tr th:only-of-type {\n        vertical-align: middle;\n    }\n\n    .dataframe tbody tr th {\n        vertical-align: top;\n    }\n\n    .dataframe thead th {\n        text-align: right;\n    }\n</style>\n<table border=\"1\" class=\"dataframe\">\n  <thead>\n    <tr style=\"text-align: right;\">\n      <th></th>\n      <th>ds</th>\n      <th>y</th>\n      <th>yhat</th>\n      <th>yhat_lower</th>\n      <th>yhat_upper</th>\n    </tr>\n  </thead>\n  <tbody>\n    <tr>\n      <th>0</th>\n      <td>2010-01-16</td>\n      <td>27</td>\n      <td>33.882428</td>\n      <td>-39.665842</td>\n      <td>103.593982</td>\n    </tr>\n    <tr>\n      <th>1</th>\n      <td>2010-01-17</td>\n      <td>29</td>\n      <td>30.526631</td>\n      <td>-41.283199</td>\n      <td>97.549289</td>\n    </tr>\n    <tr>\n      <th>2</th>\n      <td>2010-01-18</td>\n      <td>21</td>\n      <td>16.501683</td>\n      <td>-48.882786</td>\n      <td>87.565894</td>\n    </tr>\n    <tr>\n      <th>3</th>\n      <td>2010-01-19</td>\n      <td>25</td>\n      <td>17.956621</td>\n      <td>-51.833419</td>\n      <td>85.461540</td>\n    </tr>\n    <tr>\n      <th>4</th>\n      <td>2010-01-20</td>\n      <td>37</td>\n      <td>19.794336</td>\n      <td>-50.512709</td>\n      <td>94.283527</td>\n    </tr>\n  </tbody>\n</table>\n</div>"
     },
     "metadata": {},
     "execution_count": 6
    }
   ],
   "source": [
    "%%time\n",
    "num_steps=52\n",
    "fcast = get_forecast(city_df, 'Toronto', num_steps) \n",
    "fcast.head()"
   ]
  },
  {
   "cell_type": "code",
   "execution_count": 7,
   "metadata": {},
   "outputs": [
    {
     "output_type": "execute_result",
     "data": {
      "text/plain": "           ds      trend        yhat  yhat_lower  yhat_upper  fact  anomaly  \\\n0  2010-09-15  26.910482  125.744472   53.808570  193.849230   198        1   \n1  2010-12-25  31.767883  135.691983   66.105116  203.134646    39       -1   \n2  2010-12-26  31.815976  199.857948  125.789028  269.702765    75       -1   \n3  2011-01-01  31.933782  200.479485  127.095393  273.241429    80       -1   \n4  2011-03-15  31.289611  135.350913   64.498522  203.966552   211        1   \n\n   importance  \n0    4.150770  \n1   27.105116  \n2   50.789028  \n3   47.095393  \n4    7.033448  ",
      "text/html": "<div>\n<style scoped>\n    .dataframe tbody tr th:only-of-type {\n        vertical-align: middle;\n    }\n\n    .dataframe tbody tr th {\n        vertical-align: top;\n    }\n\n    .dataframe thead th {\n        text-align: right;\n    }\n</style>\n<table border=\"1\" class=\"dataframe\">\n  <thead>\n    <tr style=\"text-align: right;\">\n      <th></th>\n      <th>ds</th>\n      <th>trend</th>\n      <th>yhat</th>\n      <th>yhat_lower</th>\n      <th>yhat_upper</th>\n      <th>fact</th>\n      <th>anomaly</th>\n      <th>importance</th>\n    </tr>\n  </thead>\n  <tbody>\n    <tr>\n      <th>0</th>\n      <td>2010-09-15</td>\n      <td>26.910482</td>\n      <td>125.744472</td>\n      <td>53.808570</td>\n      <td>193.849230</td>\n      <td>198</td>\n      <td>1</td>\n      <td>4.150770</td>\n    </tr>\n    <tr>\n      <th>1</th>\n      <td>2010-12-25</td>\n      <td>31.767883</td>\n      <td>135.691983</td>\n      <td>66.105116</td>\n      <td>203.134646</td>\n      <td>39</td>\n      <td>-1</td>\n      <td>27.105116</td>\n    </tr>\n    <tr>\n      <th>2</th>\n      <td>2010-12-26</td>\n      <td>31.815976</td>\n      <td>199.857948</td>\n      <td>125.789028</td>\n      <td>269.702765</td>\n      <td>75</td>\n      <td>-1</td>\n      <td>50.789028</td>\n    </tr>\n    <tr>\n      <th>3</th>\n      <td>2011-01-01</td>\n      <td>31.933782</td>\n      <td>200.479485</td>\n      <td>127.095393</td>\n      <td>273.241429</td>\n      <td>80</td>\n      <td>-1</td>\n      <td>47.095393</td>\n    </tr>\n    <tr>\n      <th>4</th>\n      <td>2011-03-15</td>\n      <td>31.289611</td>\n      <td>135.350913</td>\n      <td>64.498522</td>\n      <td>203.966552</td>\n      <td>211</td>\n      <td>1</td>\n      <td>7.033448</td>\n    </tr>\n  </tbody>\n</table>\n</div>"
     },
     "metadata": {},
     "execution_count": 7
    }
   ],
   "source": [
    "anomaly_df = get_anomalies('Toronto')\n",
    "anomaly_df.head()"
   ]
  },
  {
   "cell_type": "code",
   "execution_count": 24,
   "metadata": {},
   "outputs": [],
   "source": [
    "logo_path = os.path.join(os.getcwd(),'dashboard_components','images','yelp_logo.png')\n",
    "encoded_image = base64.b64encode(open(logo_path, 'rb').read())\n",
    "\n",
    "NAVBAR = dbc.Navbar(\n",
    "    children=[\n",
    "        # html.A(\n",
    "            # Use row and col to control vertical alignment of logo / brand\n",
    "            dbc.Row(\n",
    "                [\n",
    "                    dbc.Col(\n",
    "                        html.Img(src='data:image/png;base64,{}'.format(encoded_image.decode()), height=\"30px\"), md=1),\n",
    "                    dbc.Col(\n",
    "                        dbc.NavbarBrand(\"YELP Merchant Insights Dashboard\", className=\"ml-2\")\n",
    "                    ),\n",
    "                ],\n",
    "                align=\"center\",\n",
    "                no_gutters=True,\n",
    "            ),\n",
    "            # href=\"https://plot.ly\",\n",
    "        # )\n",
    "    ],\n",
    "    color=\"dark\",\n",
    "    dark=True,\n",
    "    sticky=\"top\",\n",
    ")"
   ]
  },
  {
   "cell_type": "code",
   "execution_count": 25,
   "metadata": {},
   "outputs": [],
   "source": [
    "TS_FORECAST = [\n",
    "    dbc.CardHeader(html.H5(\"Demand Forecast with anomalies\")),\n",
    "    dbc.CardBody(\n",
    "        [\n",
    "            dcc.Loading(\n",
    "                id=\"loading-bigrams-comps\",\n",
    "                children=[\n",
    "                    dbc.Alert(\n",
    "                        \"Something's gone wrong! Give us a moment, but try loading this page again if problem persists.\",\n",
    "                        id=\"no-data-alert-bigrams_comp\",\n",
    "                        color=\"warning\",\n",
    "                        style={\"display\": \"none\"},\n",
    "                    ),\n",
    "                    dbc.Row(\n",
    "                        [\n",
    "                            dbc.Col(html.P(\"Choose the city and number of forecast steps:\")\n",
    "                            , md=12),\n",
    "                            dbc.Col(\n",
    "                                [\n",
    "                                    html.Label('City:'),\n",
    "                                    dcc.Dropdown(\n",
    "                                        id=\"city-dropdown\",\n",
    "                                        options=[\n",
    "                                            {\"label\": i, \"value\": i}\n",
    "                                            for i in ts_df.columns\n",
    "                                        ],\n",
    "                                        value=\"Toronto\",\n",
    "                                    )\n",
    "                                ],\n",
    "                                md=4,\n",
    "                            ),\n",
    "                            dbc.Col(\n",
    "                                [\n",
    "                                    html.Label('No. weeks to forecast:'),\n",
    "                                    dcc.Slider(\n",
    "                                        id=\"forecast-slider\",\n",
    "                                        min=26,\n",
    "                                        max=104,\n",
    "                                        step=26,\n",
    "                                        value=52,\n",
    "                                        marks={\n",
    "                                            26: '26',\n",
    "                                            52: '52',\n",
    "                                            78: '78',\n",
    "                                            104: '104'\n",
    "                                            })\n",
    "                                ],\n",
    "                                md=4,\n",
    "                            ),\n",
    "                            dbc.Col(\n",
    "                                [\n",
    "                                    html.Label('% of anomalies:'),\n",
    "                                    dcc.Slider(\n",
    "                                        id=\"anomaly-slider\",\n",
    "                                        min=25,\n",
    "                                        max=100,\n",
    "                                        step=25,\n",
    "                                        value=25,\n",
    "                                        marks={\n",
    "                                            25: '25%',\n",
    "                                            50: '50%',\n",
    "                                            75: '75%',\n",
    "                                            100: '100%'\n",
    "                                            })\n",
    "                                ],\n",
    "                                md=4,\n",
    "                            ),\n",
    "                        ]\n",
    "                    ),\n",
    "                    dcc.Graph(\n",
    "                        id='city-forecast',\n",
    "                        figure=px.line(city_df, x='ds', y='y',\n",
    "                        title='Toronto')\n",
    "                    ),\n",
    "        ],\n",
    "        type='default',)\n",
    "        ],\n",
    "        style={\"marginTop\": 0, \"marginBottom\": 0},\n",
    "    ),\n",
    "]\n",
    "\n",
    "BODY = dbc.Container(\n",
    "    [\n",
    "        dbc.Row([dbc.Col(dbc.Card(TS_FORECAST))], style={\"marginTop\": 30}),\n",
    "    ],\n",
    "    className='mt-12',\n",
    ")\n",
    "\n",
    "app = dash.Dash(__name__, external_stylesheets=[dbc.themes.BOOTSTRAP])\n",
    "server = app.server\n",
    "app.layout = html.Div(children=[NAVBAR, BODY])"
   ]
  },
  {
   "cell_type": "code",
   "execution_count": 26,
   "metadata": {
    "tags": [
     "outputPrepend",
     "outputPrepend",
     "outputPrepend"
    ]
   },
   "outputs": [
    {
     "output_type": "stream",
     "name": "stdout",
     "text": "Wall time: 0 ns\n"
    }
   ],
   "source": [
    "%%time\n",
    "@app.callback(\n",
    "    Output('city-forecast', 'figure'),\n",
    "    [Input('city-dropdown', 'value'),\n",
    "    Input('forecast-slider', 'value'),\n",
    "    Input('anomaly-slider', 'value'),]\n",
    ")\n",
    "def update_business(input_city, num_steps, anomaly_per):\n",
    "    out_df = get_city_ts(ts_df,input_city)\n",
    "    fcast = get_forecast(out_df, input_city, num_steps) \n",
    "    anomaly_df = get_anomalies(input_city)\n",
    "    anomaly_df = anomaly_df.sort_values('importance',ascending=False) \\\n",
    "                        [:int((anomaly_per/100)*anomaly_df.shape[0])]\n",
    "    anomaly_df['importance'] = (50 *\n",
    "                            anomaly_df.importance.values/\n",
    "                            np.linalg.norm(anomaly_df['importance']))\n",
    "    anomaly_pos_df = anomaly_df.loc[anomaly_df.anomaly == 1, :].copy()\n",
    "    anomaly_neg_df = anomaly_df.loc[anomaly_df.anomaly == -1, :].copy()\n",
    "\n",
    "    yhat = go.Scatter(\n",
    "       x = fcast['ds'][-num_steps*7:],\n",
    "       y = fcast['yhat'][-num_steps*7:],\n",
    "       mode = 'lines',\n",
    "       marker = {\n",
    "           'color': 'Coral',\n",
    "\n",
    "       },\n",
    "       line = {\n",
    "           'width': 3\n",
    "       },\n",
    "       name = 'Forecast'\n",
    "    )\n",
    "\n",
    "    yhat_lower = go.Scatter(\n",
    "        x = fcast['ds'][:-num_steps*7],\n",
    "        y = fcast['yhat_lower'][:-num_steps*7],\n",
    "        marker = {\n",
    "            'color': 'rgba(0,0,0,0)'\n",
    "        },\n",
    "        showlegend = False,\n",
    "        hoverinfo = 'none',\n",
    "    )\n",
    "\n",
    "    yhat_upper = go.Scatter(\n",
    "        x = fcast['ds'][:-num_steps*7],\n",
    "        y = fcast['yhat_upper'][:-num_steps*7],\n",
    "        fill='tonexty',\n",
    "        fillcolor = 'LightPink',\n",
    "        name = 'Confidence',\n",
    "        hoverinfo = 'none',\n",
    "        mode = 'none'\n",
    "    )\n",
    "\n",
    "    actual = go.Scatter(\n",
    "       x = out_df['ds'],\n",
    "       y = out_df['y'],\n",
    "       mode = 'lines',\n",
    "       marker = {\n",
    "           'color': 'RoyalBlue'\n",
    "       },\n",
    "       line = {\n",
    "           'width': 3\n",
    "       },\n",
    "       name = 'Actual'\n",
    "    )\n",
    "    \n",
    "    anomaly_pos = go.Scatter(\n",
    "        x = anomaly_pos_df['ds'],\n",
    "        y = anomaly_pos_df['fact'],\n",
    "        mode = 'markers',\n",
    "        marker = {\n",
    "            'color' : 'MediumSeaGreen',\n",
    "            'size' : anomaly_pos_df.importance,\n",
    "        },\n",
    "        name = '+ve Anomaly'\n",
    "\n",
    "    )\n",
    "\n",
    "    anomaly_neg = go.Scatter(\n",
    "        x = anomaly_neg_df['ds'],\n",
    "        y = anomaly_neg_df['fact'],\n",
    "        mode = 'markers',\n",
    "        marker = {\n",
    "            'color' : 'IndianRed',\n",
    "            'size' : anomaly_neg_df.importance,\n",
    "        },\n",
    "        name = '-ve Anomaly'\n",
    "\n",
    "    )\n",
    "\n",
    "    layout = go.Layout(\n",
    "        yaxis = {\n",
    "            'title': input_city,\n",
    "        },\n",
    "        margin = {\n",
    "            't': 20,\n",
    "            'b': 50,\n",
    "            'l': 60,\n",
    "            'r': 10\n",
    "        },\n",
    "        legend = {\n",
    "            'bgcolor': 'White'\n",
    "        }\n",
    "    )\n",
    "\n",
    "\n",
    "    data = [yhat_lower, yhat_upper, yhat, actual, anomaly_neg, anomaly_pos]\n",
    "\n",
    "    fig = go.Figure(dict(data = data, layout = layout))\n",
    "\n",
    "    return fig"
   ]
  },
  {
   "cell_type": "code",
   "execution_count": 27,
   "metadata": {},
   "outputs": [
    {
     "output_type": "stream",
     "name": "stdout",
     "text": "Running on http://127.0.0.1:8050/\nRunning on http://127.0.0.1:8050/\nRunning on http://127.0.0.1:8050/\nRunning on http://127.0.0.1:8050/\nRunning on http://127.0.0.1:8050/\nINFO:__main__:Running on http://127.0.0.1:8050/\nDebugger PIN: 911-327-694\nDebugger PIN: 911-327-694\nDebugger PIN: 911-327-694\nDebugger PIN: 911-327-694\nDebugger PIN: 911-327-694\nINFO:__main__:Debugger PIN: 911-327-694\n * Serving Flask app \"__main__\" (lazy loading)\n * Environment: production\n   WARNING: This is a development server. Do not use it in a production deployment.\n   Use a production WSGI server instead.\n * Debug mode: on\n"
    }
   ],
   "source": [
    "app.run_server(debug=True, use_reloader=False)"
   ]
  },
  {
   "cell_type": "code",
   "execution_count": null,
   "metadata": {},
   "outputs": [],
   "source": []
  }
 ],
 "metadata": {
  "language_info": {
   "codemirror_mode": {
    "name": "ipython",
    "version": 3
   },
   "file_extension": ".py",
   "mimetype": "text/x-python",
   "name": "python",
   "nbconvert_exporter": "python",
   "pygments_lexer": "ipython3",
   "version": "3.7.7-final"
  },
  "orig_nbformat": 2,
  "kernelspec": {
   "name": "python3",
   "display_name": "Python 3"
  }
 },
 "nbformat": 4,
 "nbformat_minor": 2
}