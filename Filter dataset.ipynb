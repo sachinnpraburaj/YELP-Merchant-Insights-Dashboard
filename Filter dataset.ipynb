{
 "cells": [
  {
   "cell_type": "code",
   "execution_count": 1,
   "metadata": {},
   "outputs": [],
   "source": [
    "import findspark\n",
    "findspark.init()"
   ]
  },
  {
   "cell_type": "code",
   "execution_count": 2,
   "metadata": {},
   "outputs": [],
   "source": [
    "import os\n",
    "import pyspark\n",
    "from pyspark.sql import SparkSession, functions as F, types as T\n",
    "import pandas as pd\n",
    "\n",
    "spark = SparkSession.builder.appName('YELP').getOrCreate()"
   ]
  },
  {
   "cell_type": "code",
   "execution_count": 3,
   "metadata": {},
   "outputs": [
    {
     "output_type": "execute_result",
     "data": {
      "text/plain": "['address',\n 'attributes',\n 'business_id',\n 'categories',\n 'city',\n 'hours',\n 'is_open',\n 'latitude',\n 'longitude',\n 'name',\n 'postal_code',\n 'review_count',\n 'stars',\n 'state']"
     },
     "metadata": {},
     "execution_count": 3
    }
   ],
   "source": [
    "bus_df = spark.read.json(os.getcwd()+'/data/yelp_academic_dataset_business.json')\n",
    "bus_df.columns"
   ]
  },
  {
   "cell_type": "code",
   "execution_count": 4,
   "metadata": {},
   "outputs": [
    {
     "output_type": "stream",
     "name": "stdout",
     "text": "+--------+------+\n|code_len| count|\n+--------+------+\n|       0|   509|\n|       3|  1779|\n|       5|153583|\n|       6|    12|\n|       7| 53507|\n|       8|     3|\n+--------+------+\n\n"
    }
   ],
   "source": [
    "# Exploring postal codes\n",
    "bus_df.withColumn('code_len',F.length(F.col('postal_code'))) \\\n",
    "    .groupby('code_len').count().orderBy(F.col('code_len')).show()"
   ]
  },
  {
   "cell_type": "code",
   "execution_count": 5,
   "metadata": {},
   "outputs": [
    {
     "output_type": "stream",
     "name": "stdout",
     "text": "+-------------+-----+\n|         city|count|\n+-------------+-----+\n|      Toronto|20247|\n|      Calgary| 8314|\n|     Montréal| 6958|\n|  Mississauga| 3510|\n|      Markham| 1958|\n|   North York| 1319|\n|  Scarborough| 1244|\n|Richmond Hill| 1151|\n|     Brampton| 1141|\n|      Vaughan| 1043|\n|    Etobicoke|  841|\n|        Laval|  472|\n|    Thornhill|  434|\n|    Newmarket|  411|\n|     Oakville|  400|\n|    Pickering|  369|\n|         Ajax|  341|\n|       Whitby|  322|\n|       Aurora|  280|\n|   Woodbridge|  264|\n+-------------+-----+\nonly showing top 20 rows\n\n"
    }
   ],
   "source": [
    "# Filtering Canadian cities\n",
    "bus_df.filter(F.length(F.col('postal_code')).isin([3,6,7])) \\\n",
    "    .groupby('city').count().orderBy(F.col('count'),ascending=False).show()"
   ]
  },
  {
   "cell_type": "code",
   "execution_count": 6,
   "metadata": {},
   "outputs": [
    {
     "output_type": "stream",
     "name": "stdout",
     "text": "+-------------+\n|         city|\n+-------------+\n|      Toronto|\n|      Calgary|\n|     Montréal|\n|  Mississauga|\n|      Markham|\n|   North York|\n|  Scarborough|\n|Richmond Hill|\n|     Brampton|\n|      Vaughan|\n+-------------+\n\n"
    }
   ],
   "source": [
    "# 10 Canadian cities with most number of businesses\n",
    "cities = bus_df.filter(F.length(F.col('postal_code')).isin([3,6,7])) \\\n",
    "    .groupby('city').count().orderBy(F.col('count'),ascending=False)[['city']].limit(10)\n",
    "cities.show()"
   ]
  },
  {
   "cell_type": "code",
   "execution_count": 7,
   "metadata": {},
   "outputs": [
    {
     "output_type": "stream",
     "name": "stdout",
     "text": "Before filtering: 209393\nAfter filtering: 47110\n"
    }
   ],
   "source": [
    "# Filter business data\n",
    "print(\"Before filtering:\", bus_df.count())\n",
    "bus_filt = bus_df.join(cities,'city','inner')\n",
    "print(\"After filtering:\", bus_filt.count())\n",
    "del bus_df"
   ]
  },
  {
   "cell_type": "code",
   "execution_count": 8,
   "metadata": {},
   "outputs": [
    {
     "output_type": "execute_result",
     "data": {
      "text/plain": "['business_id',\n 'cool',\n 'date',\n 'funny',\n 'review_id',\n 'stars',\n 'text',\n 'useful',\n 'user_id']"
     },
     "metadata": {},
     "execution_count": 8
    }
   ],
   "source": [
    "rev_df = spark.read.json(os.getcwd()+'/data/yelp_academic_dataset_review.json')\n",
    "rev_df.columns"
   ]
  },
  {
   "cell_type": "code",
   "execution_count": 9,
   "metadata": {},
   "outputs": [
    {
     "output_type": "stream",
     "name": "stdout",
     "text": "Before filtering: 8021122\nAfter filtering: 1124670\n"
    }
   ],
   "source": [
    "# Filter review data\n",
    "print(\"Before filtering:\", rev_df.count())\n",
    "rev_filt = rev_df.join(bus_filt[['business_id']],'business_id','inner')\n",
    "print(\"After filtering:\", rev_filt.count())\n",
    "del rev_df"
   ]
  },
  {
   "cell_type": "code",
   "execution_count": 10,
   "metadata": {},
   "outputs": [
    {
     "output_type": "execute_result",
     "data": {
      "text/plain": "['average_stars',\n 'compliment_cool',\n 'compliment_cute',\n 'compliment_funny',\n 'compliment_hot',\n 'compliment_list',\n 'compliment_more',\n 'compliment_note',\n 'compliment_photos',\n 'compliment_plain',\n 'compliment_profile',\n 'compliment_writer',\n 'cool',\n 'elite',\n 'fans',\n 'friends',\n 'funny',\n 'name',\n 'review_count',\n 'useful',\n 'user_id',\n 'yelping_since']"
     },
     "metadata": {},
     "execution_count": 10
    }
   ],
   "source": [
    "user_df = spark.read.json(os.getcwd()+'/data/yelp_academic_dataset_user.json')\n",
    "user_df.columns"
   ]
  },
  {
   "cell_type": "code",
   "execution_count": 11,
   "metadata": {},
   "outputs": [
    {
     "output_type": "stream",
     "name": "stdout",
     "text": "Before filtering: 1968703\nAfter filtering: 1124670\n"
    }
   ],
   "source": [
    "# Filter user data\n",
    "print(\"Before filtering:\", user_df.count())\n",
    "user_filt = user_df.join(rev_filt[['user_id']],'user_id','inner')\n",
    "print(\"After filtering:\", user_filt.count())\n",
    "del user_df"
   ]
  },
  {
   "cell_type": "code",
   "execution_count": 12,
   "metadata": {},
   "outputs": [
    {
     "output_type": "execute_result",
     "data": {
      "text/plain": "['business_id', 'compliment_count', 'date', 'text', 'user_id']"
     },
     "metadata": {},
     "execution_count": 12
    }
   ],
   "source": [
    "tip_df = spark.read.json(os.getcwd()+'/data/yelp_academic_dataset_tip.json')\n",
    "tip_df.columns"
   ]
  },
  {
   "cell_type": "code",
   "execution_count": 13,
   "metadata": {},
   "outputs": [
    {
     "output_type": "stream",
     "name": "stdout",
     "text": "Before filtering: 1320761\nAfter filtering: 155110\n"
    }
   ],
   "source": [
    "# Filter tip data\n",
    "print(\"Before filtering:\", tip_df.count())\n",
    "tip_filt = tip_df.join(bus_filt[['business_id']],'business_id','inner')\n",
    "print(\"After filtering:\", tip_filt.count())\n",
    "del tip_df"
   ]
  },
  {
   "cell_type": "code",
   "execution_count": 14,
   "metadata": {},
   "outputs": [
    {
     "output_type": "execute_result",
     "data": {
      "text/plain": "['business_id', 'date']"
     },
     "metadata": {},
     "execution_count": 14
    }
   ],
   "source": [
    "check_df = spark.read.json(os.getcwd()+'/data/yelp_academic_dataset_checkin.json')\n",
    "check_df.columns"
   ]
  },
  {
   "cell_type": "code",
   "execution_count": 15,
   "metadata": {},
   "outputs": [
    {
     "output_type": "stream",
     "name": "stdout",
     "text": "Before filtering: 175187\nAfter filtering: 40632\n"
    }
   ],
   "source": [
    "# Filter tip data\n",
    "print(\"Before filtering:\", check_df.count())\n",
    "check_filt = check_df.join(bus_filt[['business_id']],'business_id','inner')\n",
    "print(\"After filtering:\", check_filt.count())\n",
    "del check_df"
   ]
  },
  {
   "cell_type": "code",
   "execution_count": 16,
   "metadata": {},
   "outputs": [],
   "source": [
    "filt_datapath = os.getcwd()+'/filtered_data'\n",
    "if not os.path.exists(filt_datapath):\n",
    "    os.makedirs(filt_datapath)\n",
    "\n",
    "bus_filt.write.parquet(filt_datapath+'/business',mode='overwrite')\n",
    "rev_filt.write.parquet(filt_datapath+'/review',mode='overwrite')\n",
    "user_filt.write.parquet(filt_datapath+'/user',mode='overwrite')\n",
    "tip_filt.write.parquet(filt_datapath+'/tip',mode='overwrite')\n",
    "check_filt.write.parquet(filt_datapath+'/checkin',mode='overwrite')"
   ]
  }
 ],
 "metadata": {
  "language_info": {
   "codemirror_mode": {
    "name": "ipython",
    "version": 3
   },
   "file_extension": ".py",
   "mimetype": "text/x-python",
   "name": "python",
   "nbconvert_exporter": "python",
   "pygments_lexer": "ipython3",
   "version": "3.7.7-final"
  },
  "orig_nbformat": 2,
  "kernelspec": {
   "name": "python3",
   "display_name": "Python 3"
  }
 },
 "nbformat": 4,
 "nbformat_minor": 2
}